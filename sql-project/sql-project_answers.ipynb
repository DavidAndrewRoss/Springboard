{
 "cells": [
  {
   "cell_type": "code",
   "execution_count": 1,
   "metadata": {},
   "outputs": [],
   "source": [
    "import mysql.connector\n",
    "from tabulate import tabulate"
   ]
  },
  {
   "cell_type": "code",
   "execution_count": 2,
   "metadata": {
    "scrolled": true
   },
   "outputs": [],
   "source": [
    "cnx = mysql.connector.connect(user='root',\n",
    "                              password='root',\n",
    "                              host='mysql',\n",
    "                              port='3306',\n",
    "                              db='country_club')\n",
    "cursor = cnx.cursor()"
   ]
  },
  {
   "cell_type": "markdown",
   "metadata": {},
   "source": [
    "#### Q1: Some of the facilities charge a fee to members, but some do not. Please list the names of the facilities that do."
   ]
  },
  {
   "cell_type": "code",
   "execution_count": 3,
   "metadata": {},
   "outputs": [
    {
     "name": "stdout",
     "output_type": "stream",
     "text": [
      "Tennis Court 1\n",
      "Tennis Court 2\n",
      "Massage Room 1\n",
      "Massage Room 2\n",
      "Squash Court\n"
     ]
    }
   ],
   "source": [
    "cursor.execute(\n",
    "    \"\"\"\n",
    "    SELECT name \n",
    "    FROM Facilities\n",
    "    WHERE membercost > 0\n",
    "    \"\"\"\n",
    ")\n",
    "\n",
    "for (facility,) in cursor:\n",
    "    print(facility)"
   ]
  },
  {
   "cell_type": "markdown",
   "metadata": {},
   "source": [
    "#### Q2: How many facilities do not charge a fee to members?"
   ]
  },
  {
   "cell_type": "code",
   "execution_count": 4,
   "metadata": {},
   "outputs": [
    {
     "name": "stdout",
     "output_type": "stream",
     "text": [
      "4\n"
     ]
    }
   ],
   "source": [
    "cursor.execute(\n",
    "    \"\"\"\n",
    "    SELECT COUNT(*) \n",
    "    FROM Facilities\n",
    "    WHERE membercost = 0\n",
    "    \"\"\"\n",
    ")\n",
    "\n",
    "for (free_count,) in cursor:\n",
    "    print(free_count)"
   ]
  },
  {
   "cell_type": "markdown",
   "metadata": {},
   "source": [
    "#### Q3: How can you produce a list of facilities that charge a fee to members, where the fee is less than 20% of the facility's monthly maintenance cost? Return the facid, facility name, member cost, and monthly maintenance of the facilities in question."
   ]
  },
  {
   "cell_type": "code",
   "execution_count": 5,
   "metadata": {},
   "outputs": [
    {
     "name": "stdout",
     "output_type": "stream",
     "text": [
      "  facid  name              membercost    monthlymaintenance\n",
      "-------  --------------  ------------  --------------------\n",
      "      0  Tennis Court 1           5                     200\n",
      "      1  Tennis Court 2           5                     200\n",
      "      4  Massage Room 1           9.9                  3000\n",
      "      5  Massage Room 2           9.9                  3000\n",
      "      6  Squash Court             3.5                    80\n"
     ]
    }
   ],
   "source": [
    "cursor.execute(\n",
    "    \"\"\"\n",
    "    SELECT facid, name, membercost, monthlymaintenance\n",
    "    FROM Facilities\n",
    "    WHERE (membercost / monthlymaintenance < 0.2) & (membercost > 0)\n",
    "    \"\"\"\n",
    ")\n",
    "\n",
    "data = cursor.fetchall()\n",
    "column_names = cursor.column_names\n",
    "print(tabulate(data, headers=column_names))"
   ]
  },
  {
   "cell_type": "markdown",
   "metadata": {},
   "source": [
    "#### Q4: How can you retrieve the details of facilities with ID 1 and 5? Write the query without using the OR operator."
   ]
  },
  {
   "cell_type": "code",
   "execution_count": 6,
   "metadata": {},
   "outputs": [
    {
     "name": "stdout",
     "output_type": "stream",
     "text": [
      "  facid  name              membercost    guestcost    initialoutlay    monthlymaintenance\n",
      "-------  --------------  ------------  -----------  ---------------  --------------------\n",
      "      1  Tennis Court 2           5             25             8000                   200\n",
      "      5  Massage Room 2           9.9           80             4000                  3000\n"
     ]
    }
   ],
   "source": [
    "cursor.execute(\n",
    "    \"\"\"\n",
    "    SELECT *\n",
    "    FROM Facilities\n",
    "    WHERE facid IN (1, 5)\n",
    "    \"\"\"\n",
    ")\n",
    "\n",
    "data = cursor.fetchall()\n",
    "column_names = cursor.column_names\n",
    "print(tabulate(data, headers=column_names))"
   ]
  },
  {
   "cell_type": "markdown",
   "metadata": {},
   "source": [
    "#### Q5: How can you produce a list of facilities, with each labelled as 'cheap' or 'expensive', depending on if their monthly maintenance cost is more than \\$100? Return the name and monthly maintenance of the facilities in question."
   ]
  },
  {
   "cell_type": "code",
   "execution_count": 7,
   "metadata": {},
   "outputs": [
    {
     "name": "stdout",
     "output_type": "stream",
     "text": [
      "name               monthlymaintenance  cost\n",
      "---------------  --------------------  ---------\n",
      "Tennis Court 1                    200  expensive\n",
      "Tennis Court 2                    200  expensive\n",
      "Badminton Court                    50  cheap\n",
      "Table Tennis                       10  cheap\n",
      "Massage Room 1                   3000  expensive\n",
      "Massage Room 2                   3000  expensive\n",
      "Squash Court                       80  cheap\n",
      "Snooker Table                      15  cheap\n",
      "Pool Table                         15  cheap\n"
     ]
    }
   ],
   "source": [
    "cursor.execute(\n",
    "    \"\"\"\n",
    "    SELECT name, monthlymaintenance,\n",
    "        CASE \n",
    "            WHEN monthlymaintenance > 100 \n",
    "            THEN 'expensive'\n",
    "            ELSE 'cheap'\n",
    "        END AS cost\n",
    "    FROM Facilities;\n",
    "    \"\"\"\n",
    ")\n",
    "\n",
    "data = cursor.fetchall()\n",
    "column_names = cursor.column_names\n",
    "print(tabulate(data, headers=column_names))"
   ]
  },
  {
   "cell_type": "markdown",
   "metadata": {},
   "source": [
    "#### Q6: You'd like to get the first and last name of the last member(s) who signed up. Do not use the LIMIT clause for your solution.\n"
   ]
  },
  {
   "cell_type": "code",
   "execution_count": 8,
   "metadata": {},
   "outputs": [
    {
     "name": "stdout",
     "output_type": "stream",
     "text": [
      "firstname    surname\n",
      "-----------  ---------\n",
      "Darren       Smith\n"
     ]
    }
   ],
   "source": [
    "cursor.execute(\n",
    "    \"\"\"\n",
    "    SELECT a.firstname, a.surname\n",
    "        FROM (SELECT firstname, surname, MAX(joindate)\n",
    "             FROM Members \n",
    "             WHERE surname != 'GUEST') a\n",
    "    \"\"\"\n",
    ")\n",
    "\n",
    "data = cursor.fetchall()\n",
    "column_names = cursor.column_names\n",
    "print(tabulate(data, headers=column_names))"
   ]
  },
  {
   "cell_type": "markdown",
   "metadata": {},
   "source": [
    "#### Q7: How can you produce a list of all members who have used a tennis court? Include in your output the name of the court, and the name of the member formatted as a single column. Ensure no duplicate data, and order by the member name."
   ]
  },
  {
   "cell_type": "code",
   "execution_count": 9,
   "metadata": {},
   "outputs": [
    {
     "name": "stdout",
     "output_type": "stream",
     "text": [
      "member\n",
      "-----------------\n",
      "Anne Baker\n",
      "Burton Tracy\n",
      "Charles Owen\n",
      "Darren Smith\n",
      "David Farrell\n",
      "David Jones\n",
      "David Pinker\n",
      "Douglas Jones\n",
      "Erica Crumpet\n",
      "Florence Bader\n",
      "Gerald Butters\n",
      "Henrietta Rumney\n",
      "Jack Smith\n",
      "Janice Joplette\n",
      "Jemima Farrell\n",
      "Joan Coplin\n",
      "John Hunt\n",
      "Matthew Genting\n",
      "Millicent Purview\n",
      "Nancy Dare\n",
      "Ponder Stibbons\n",
      "Ramnaresh Sarwin\n",
      "Tim Boothe\n",
      "Tim Rownam\n",
      "Timothy Baker\n",
      "Tracy Smith\n"
     ]
    }
   ],
   "source": [
    "cursor.execute(\n",
    "    \"\"\"\n",
    "    SELECT DISTINCT CONCAT(m.firstname, ' ', m.surname) AS member\n",
    "    FROM Members m\n",
    "    JOIN (SELECT b.facid, b.memid FROM Bookings b\n",
    "          JOIN Facilities f\n",
    "          ON b.facid = f.facid AND f.name LIKE 'Tennis Court%') a\n",
    "    ON m.memid = a.memid AND m.memid != 0\n",
    "    ORDER BY member\n",
    "    \"\"\"\n",
    ")\n",
    "\n",
    "data = cursor.fetchall()\n",
    "column_names = cursor.column_names\n",
    "print(tabulate(data, headers=column_names))"
   ]
  },
  {
   "cell_type": "markdown",
   "metadata": {},
   "source": [
    "#### Q8: How can you produce a list of bookings on the day of 2012-09-14 which will cost the member (or guest) more than $30. Remember that guests have different costs to members (the listed costs are per half-hour 'slot'), and the guest user's ID is always 0. Include in your output the name of the facility, the name of the member formatted as a single column, and the cost. Order by descending cost, and do not use any subqueries."
   ]
  },
  {
   "cell_type": "code",
   "execution_count": 10,
   "metadata": {},
   "outputs": [
    {
     "name": "stdout",
     "output_type": "stream",
     "text": [
      "facilityname    membername        cost\n",
      "--------------  --------------  ------\n",
      "Massage Room 2  GUEST            320\n",
      "Massage Room 1  GUEST            160\n",
      "Massage Room 1  GUEST            160\n",
      "Massage Room 1  GUEST            160\n",
      "Tennis Court 2  GUEST            150\n",
      "Tennis Court 2  GUEST             75\n",
      "Tennis Court 1  GUEST             75\n",
      "Tennis Court 1  GUEST             75\n",
      "Squash Court    GUEST             70\n",
      "Massage Room 1  Jemima Farrell    39.6\n",
      "Squash Court    GUEST             35\n",
      "Squash Court    GUEST             35\n"
     ]
    }
   ],
   "source": [
    "cursor.execute(\n",
    "    \"\"\"\n",
    "    SELECT f.name AS facilityname,\n",
    "        CASE WHEN m.firstname = 'GUEST'\n",
    "             THEN m.firstname\n",
    "             ELSE CONCAT(m.firstname,  ' ', m.surname)\n",
    "        END AS membername,\n",
    "        CASE WHEN b.memid = 0 \n",
    "             THEN f.guestcost * b.slots\n",
    "             ELSE f.membercost * slots\n",
    "        END AS cost\n",
    "        FROM Bookings b\n",
    "        JOIN Members m ON b.memid = m.memid AND DATE(b.starttime) = '2012-09-14'\n",
    "        JOIN Facilities f ON b.facid = f.facid HAVING cost > 30 \n",
    "        ORDER BY cost DESC\n",
    "    \"\"\"\n",
    ")\n",
    "    \n",
    "data = cursor.fetchall()\n",
    "column_names = cursor.column_names\n",
    "print(tabulate(data, headers=column_names))"
   ]
  },
  {
   "cell_type": "markdown",
   "metadata": {},
   "source": [
    "#### Q9: This time, produce the same result as in Q8, but using a subquery."
   ]
  },
  {
   "cell_type": "code",
   "execution_count": 11,
   "metadata": {},
   "outputs": [
    {
     "name": "stdout",
     "output_type": "stream",
     "text": [
      "facilityname    membername        cost\n",
      "--------------  --------------  ------\n",
      "Massage Room 2  GUEST            320\n",
      "Massage Room 1  GUEST            160\n",
      "Massage Room 1  GUEST            160\n",
      "Massage Room 1  GUEST            160\n",
      "Tennis Court 2  GUEST            150\n",
      "Tennis Court 2  GUEST             75\n",
      "Tennis Court 1  GUEST             75\n",
      "Tennis Court 1  GUEST             75\n",
      "Squash Court    GUEST             70\n",
      "Massage Room 1  Jemima Farrell    39.6\n",
      "Squash Court    GUEST             35\n",
      "Squash Court    GUEST             35\n"
     ]
    }
   ],
   "source": [
    "cursor.execute(\n",
    "    \"\"\"\n",
    "    SELECT a.facilityname, a.membername, a.cost\n",
    "    FROM (SELECT f.name AS facilityname,\n",
    "              CASE WHEN m.firstname = 'GUEST'\n",
    "                   THEN m.firstname\n",
    "                   ELSE CONCAT(m.firstname,  ' ', m.surname)\n",
    "              END AS membername,\n",
    "              CASE WHEN b.memid = 0 \n",
    "                   THEN f.guestcost * b.slots\n",
    "                   ELSE f.membercost * slots \n",
    "              END AS cost         \n",
    "          FROM country_club.Bookings b\n",
    "          JOIN Members m ON b.memid = m.memid AND b.starttime BETWEEN '2012-09-14' AND '2012-09-15'\n",
    "          JOIN Facilities f ON b.facid = f.facid) a\n",
    "    WHERE a.cost > 30\n",
    "    ORDER BY cost DESC\n",
    "    \"\"\"\n",
    ")\n",
    "\n",
    "data = cursor.fetchall()\n",
    "column_names = cursor.column_names\n",
    "print(tabulate(data, headers=column_names))"
   ]
  },
  {
   "cell_type": "markdown",
   "metadata": {},
   "source": [
    "#### Q10: Produce a list of facilities with a total revenue less than 1000. The output of facility name and total revenue, sorted by revenue. Remember that there's a different cost for guests and members!\n",
    "    "
   ]
  },
  {
   "cell_type": "code",
   "execution_count": 12,
   "metadata": {},
   "outputs": [
    {
     "name": "stdout",
     "output_type": "stream",
     "text": [
      "facilityname      totalrevenue\n",
      "--------------  --------------\n",
      "Table Tennis               180\n",
      "Snooker Table              240\n",
      "Pool Table                 270\n"
     ]
    }
   ],
   "source": [
    "cursor.execute(\n",
    "    \"\"\"\n",
    "    SELECT f.name AS facilityname, \n",
    "           SUM(CASE \n",
    "                   WHEN b.memid = 0 \n",
    "                   THEN f.guestcost * b.slots\n",
    "                   ELSE f.membercost * b.slots \n",
    "               END)\n",
    "           AS totalrevenue\n",
    "    FROM Facilities f\n",
    "    JOIN Bookings b ON f.facid = b.facid\n",
    "    GROUP BY f.name HAVING totalrevenue <1000 \n",
    "    ORDER BY totalrevenue\n",
    "    \"\"\"\n",
    ")\n",
    "data = cursor.fetchall()\n",
    "column_names = cursor.column_names\n",
    "print(tabulate(data, headers=column_names))"
   ]
  },
  {
   "cell_type": "code",
   "execution_count": 13,
   "metadata": {},
   "outputs": [],
   "source": [
    "cnx.close()\n"
   ]
  },
  {
   "cell_type": "code",
   "execution_count": null,
   "metadata": {},
   "outputs": [],
   "source": []
  }
 ],
 "metadata": {
  "kernelspec": {
   "display_name": "Python 3",
   "language": "python",
   "name": "python3"
  },
  "language_info": {
   "codemirror_mode": {
    "name": "ipython",
    "version": 3
   },
   "file_extension": ".py",
   "mimetype": "text/x-python",
   "name": "python",
   "nbconvert_exporter": "python",
   "pygments_lexer": "ipython3",
   "version": "3.7.3"
  }
 },
 "nbformat": 4,
 "nbformat_minor": 2
}
