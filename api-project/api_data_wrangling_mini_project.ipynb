{
 "cells": [
  {
   "cell_type": "markdown",
   "metadata": {},
   "source": [
    "This exercise will require you to pull some data from the Qunadl API. Qaundl is currently the most widely used aggregator of financial market data."
   ]
  },
  {
   "cell_type": "markdown",
   "metadata": {},
   "source": [
    "As a first step, you will need to register a free account on the http://www.quandl.com website."
   ]
  },
  {
   "cell_type": "markdown",
   "metadata": {},
   "source": [
    "After you register, you will be provided with a unique API key, that you should store:"
   ]
  },
  {
   "cell_type": "code",
   "execution_count": 1,
   "metadata": {},
   "outputs": [],
   "source": [
    "# Store the API key as a string - according to PEP8, constants are always named in all upper case\n",
    "API_KEY = ''"
   ]
  },
  {
   "cell_type": "markdown",
   "metadata": {},
   "source": [
    "Qaundl has a large number of data sources, but, unfortunately, most of them require a Premium subscription. Still, there are also a good number of free datasets."
   ]
  },
  {
   "cell_type": "markdown",
   "metadata": {},
   "source": [
    "For this mini project, we will focus on equities data from the Frankfurt Stock Exhange (FSE), which is available for free. We'll try and analyze the stock prices of a company called Carl Zeiss Meditec, which manufactures tools for eye examinations, as well as medical lasers for laser eye surgery: https://www.zeiss.com/meditec/int/home.html. The company is listed under the stock ticker AFX_X."
   ]
  },
  {
   "cell_type": "markdown",
   "metadata": {},
   "source": [
    "You can find the detailed Quandl API instructions here: https://docs.quandl.com/docs/time-series"
   ]
  },
  {
   "cell_type": "markdown",
   "metadata": {},
   "source": [
    "While there is a dedicated Python package for connecting to the Quandl API, we would prefer that you use the *requests* package, which can be easily downloaded using *pip* or *conda*. You can find the documentation for the package here: http://docs.python-requests.org/en/master/ "
   ]
  },
  {
   "cell_type": "markdown",
   "metadata": {},
   "source": [
    "Finally, apart from the *requests* package, you are encouraged to not use any third party Python packages, such as *pandas*, and instead focus on what's available in the Python Standard Library (the *collections* module might come in handy: https://pymotw.com/3/collections/ ).\n",
    "Also, since you won't have access to DataFrames, you are encouraged to us Python's native data structures - preferably dictionaries, though some questions can also be answered using lists.\n",
    "You can read more on these data structures here: https://docs.python.org/3/tutorial/datastructures.html"
   ]
  },
  {
   "cell_type": "markdown",
   "metadata": {},
   "source": [
    "Keep in mind that the JSON responses you will be getting from the API map almost one-to-one to Python's dictionaries. Unfortunately, they can be very nested, so make sure you read up on indexing dictionaries in the documentation provided above."
   ]
  },
  {
   "cell_type": "code",
   "execution_count": 2,
   "metadata": {},
   "outputs": [],
   "source": [
    "# First, import the relevant modules\n",
    "import json\n",
    "import requests"
   ]
  },
  {
   "cell_type": "code",
   "execution_count": 3,
   "metadata": {},
   "outputs": [],
   "source": [
    "# Now, call the Quandl API and pull out a small sample of the data (only one day) to get a glimpse\n",
    "# into the JSON structure that will be returned\n",
    "url = 'https://www.quandl.com/api/v3/datasets'\n",
    "db_code = 'FSE'\n",
    "ds_code = 'AFX_X'\n",
    "return_format = 'json'\n",
    "metadata = '&'.join(['start_date=2019-08-12', \n",
    "                     'end_date=2019-08-12'])\n",
    "\n",
    "# Send request\n",
    "request = f\"{url}/{db_code}/{ds_code}/data.{return_format}?{metadata}&api_key={API_KEY}\"\n",
    "response = requests.get(request)"
   ]
  },
  {
   "cell_type": "code",
   "execution_count": 4,
   "metadata": {},
   "outputs": [
    {
     "name": "stdout",
     "output_type": "stream",
     "text": [
      "{\n",
      "    \"dataset_data\": {\n",
      "        \"collapse\": null,\n",
      "        \"column_index\": null,\n",
      "        \"column_names\": [\n",
      "            \"Date\",\n",
      "            \"Open\",\n",
      "            \"High\",\n",
      "            \"Low\",\n",
      "            \"Close\",\n",
      "            \"Change\",\n",
      "            \"Traded Volume\",\n",
      "            \"Turnover\",\n",
      "            \"Last Price of the Day\",\n",
      "            \"Daily Traded Units\",\n",
      "            \"Daily Turnover\"\n",
      "        ],\n",
      "        \"data\": [\n",
      "            [\n",
      "                \"2019-08-12\",\n",
      "                100.0,\n",
      "                101.6,\n",
      "                98.2,\n",
      "                98.95,\n",
      "                null,\n",
      "                111146.0,\n",
      "                11031779.0,\n",
      "                null,\n",
      "                null,\n",
      "                null\n",
      "            ]\n",
      "        ],\n",
      "        \"end_date\": \"2019-08-12\",\n",
      "        \"frequency\": \"daily\",\n",
      "        \"limit\": null,\n",
      "        \"order\": null,\n",
      "        \"start_date\": \"2019-08-12\",\n",
      "        \"transform\": null\n",
      "    }\n",
      "}\n"
     ]
    }
   ],
   "source": [
    "# Inspect the JSON structure of the object you created, and take note of how nested it is,\n",
    "# as well as the overall structure\n",
    "\n",
    "# Pretty print to see nesting\n",
    "json_dict = response.json()\n",
    "print(json.dumps(json_dict, sort_keys=True, indent=4))"
   ]
  },
  {
   "cell_type": "markdown",
   "metadata": {},
   "source": [
    "These are your tasks for this mini project:\n",
    "\n",
    "1. Collect data from the Franfurt Stock Exchange, for the ticker AFX_X, for the whole year 2017 (keep in mind that the date format is YYYY-MM-DD).\n",
    "2. Convert the returned JSON object into a Python dictionary.\n",
    "3. Calculate what the highest and lowest opening prices were for the stock in this period.\n",
    "4. What was the largest change in any one day (based on High and Low price)?\n",
    "5. What was the largest change between any two days (based on Closing Price)?\n",
    "6. What was the average daily trading volume during this year?\n",
    "7. (Optional) What was the median trading volume during this year. (Note: you may need to implement your own function for calculating the median.)"
   ]
  },
  {
   "cell_type": "markdown",
   "metadata": {},
   "source": [
    "#### Q1. Collect data from the Franfurt Stock Exchange, for the ticker AFX_X, for the whole year 2017.\n"
   ]
  },
  {
   "cell_type": "code",
   "execution_count": 5,
   "metadata": {},
   "outputs": [],
   "source": [
    "# Update metadata\n",
    "metadata = '&'.join(['start_date=2017-01-01', \n",
    "                     'end_date=2017-12-31'])\n",
    "\n",
    "# Send request\n",
    "request = f\"{url}/{db_code}/{ds_code}/data.{return_format}?{metadata}&api_key={API_KEY}\"\n",
    "response = requests.get(request)"
   ]
  },
  {
   "cell_type": "markdown",
   "metadata": {},
   "source": [
    "#### Q2. Convert the returned JSON object into a Python dictionary."
   ]
  },
  {
   "cell_type": "code",
   "execution_count": 6,
   "metadata": {},
   "outputs": [
    {
     "data": {
      "text/plain": [
       "dict"
      ]
     },
     "execution_count": 6,
     "metadata": {},
     "output_type": "execute_result"
    }
   ],
   "source": [
    "json_dict = response.json()['dataset_data']\n",
    "type(json_dict)"
   ]
  },
  {
   "cell_type": "markdown",
   "metadata": {},
   "source": [
    "#### Q3. Calculate what the highest and lowest opening prices were for the stock in this period.\n"
   ]
  },
  {
   "cell_type": "code",
   "execution_count": 7,
   "metadata": {},
   "outputs": [
    {
     "name": "stdout",
     "output_type": "stream",
     "text": [
      "highest opening price: $53.11 \n",
      "lowest opening price: $34.00\n"
     ]
    }
   ],
   "source": [
    "# Extract all opening prices as a list filtering out cases where None\n",
    "open_idx = json_dict['column_names'].index('Open')\n",
    "opening_prices = [day[open_idx] for day in json_dict['data'] if day[open_idx] != None]\n",
    "\n",
    "# Find highest and lowest opening prices\n",
    "highest_open = max(opening_prices)\n",
    "lowest_open = min(opening_prices)\n",
    "\n",
    "print(f\"highest opening price: ${'%.2f' % highest_open}\",\n",
    "      f\"\\nlowest opening price: ${'%.2f' % lowest_open}\")"
   ]
  },
  {
   "cell_type": "markdown",
   "metadata": {},
   "source": [
    "#### Q4. What was the largest change in any one day (based on High and Low price)?"
   ]
  },
  {
   "cell_type": "code",
   "execution_count": 8,
   "metadata": {},
   "outputs": [
    {
     "name": "stdout",
     "output_type": "stream",
     "text": [
      "largest price change (high - low): $2.81\n"
     ]
    }
   ],
   "source": [
    "# Extract price change (high - low) as a list\n",
    "high_idx = json_dict['column_names'].index('High')\n",
    "low_idx = json_dict['column_names'].index('Low')\n",
    "price_change = [day[high_idx] - day[low_idx] for day in json_dict['data']]\n",
    "\n",
    "# Find largest price change\n",
    "max_change = max(price_change)\n",
    "\n",
    "print(f\"largest price change (high - low): ${'%.2f' % max_change}\")"
   ]
  },
  {
   "cell_type": "markdown",
   "metadata": {},
   "source": [
    "#### Q5. What was the largest change between any two days (based on Closing Price)?"
   ]
  },
  {
   "cell_type": "markdown",
   "metadata": {},
   "source": [
    "I am assuming that the question is about change between consecutive trading days, i.e. the difference between the Fri and Mon closing price would count the same as the difference between the Mon and Tue closing price (also ignores breaks due to holidays etc)."
   ]
  },
  {
   "cell_type": "code",
   "execution_count": 9,
   "metadata": {},
   "outputs": [
    {
     "name": "stdout",
     "output_type": "stream",
     "text": [
      "largest price change between any two days: $2.56\n"
     ]
    }
   ],
   "source": [
    "# Get closing price for each day\n",
    "close_idx = json_dict['column_names'].index('Close')\n",
    "close_prices = [day[close_idx] for day in json_dict['data']]\n",
    "\n",
    "# Find largest price difference (absolute difference) \n",
    "close_diff = [abs(j-i) for i,j in zip(close_prices, close_prices[1:])]\n",
    "max_diff = max(close_diff)\n",
    "\n",
    "print(f\"largest price change between any two days: ${'%.2f' % max_diff}\")"
   ]
  },
  {
   "cell_type": "markdown",
   "metadata": {},
   "source": [
    "#### Q6. What was the average daily trading volume during this year?"
   ]
  },
  {
   "cell_type": "code",
   "execution_count": 10,
   "metadata": {},
   "outputs": [
    {
     "name": "stdout",
     "output_type": "stream",
     "text": [
      "mean trade volume: 89124.34\n"
     ]
    }
   ],
   "source": [
    "vol_idx = json_dict['column_names'].index('Traded Volume')\n",
    "trade_vols = [day[vol_idx] for day in json_dict['data']]\n",
    "\n",
    "# Calculate mean trade volume\n",
    "mean_vol = sum(trade_vols) / len(trade_vols)\n",
    "\n",
    "print(f\"mean trade volume: {'%.2f' % mean_vol}\")"
   ]
  },
  {
   "cell_type": "markdown",
   "metadata": {},
   "source": [
    "### Q7. (Optional) What was the median trading volume during this year. (Note: you may need to implement your own function for calculating the median.)"
   ]
  },
  {
   "cell_type": "code",
   "execution_count": 11,
   "metadata": {},
   "outputs": [
    {
     "name": "stdout",
     "output_type": "stream",
     "text": [
      "median trade volume: 76286.00\n"
     ]
    }
   ],
   "source": [
    "# using trade_vols computed in Q6\n",
    "nvols = len(trade_vols)\n",
    "# Round down with //\n",
    "mid = nvols // 2\n",
    "sorted_vols = sorted(trade_vols)\n",
    "\n",
    "# if nvols is odd median is middle value of sorted otherwise mean of two middle values\n",
    "# Note, for odd nvols // 2 is correct because list is 0 indexed. For even need to subtract 1.\n",
    "median_vol =  sorted_vols[mid] if nvols % 2 else sum(sorted_vols[mid-1:mid+1]) / 2\n",
    "\n",
    "print(f\"median trade volume: {'%.2f' % median_vol}\") "
   ]
  },
  {
   "cell_type": "code",
   "execution_count": null,
   "metadata": {},
   "outputs": [],
   "source": []
  }
 ],
 "metadata": {
  "kernelspec": {
   "display_name": "Python 3",
   "language": "python",
   "name": "python3"
  },
  "language_info": {
   "codemirror_mode": {
    "name": "ipython",
    "version": 3
   },
   "file_extension": ".py",
   "mimetype": "text/x-python",
   "name": "python",
   "nbconvert_exporter": "python",
   "pygments_lexer": "ipython3",
   "version": "3.7.3"
  }
 },
 "nbformat": 4,
 "nbformat_minor": 2
}
